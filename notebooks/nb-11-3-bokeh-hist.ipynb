{
 "cells": [
  {
   "cell_type": "code",
   "execution_count": 1,
   "metadata": {},
   "outputs": [],
   "source": [
    "# explicit import are preferred\n",
    "import bokeh\n",
    "import bokeh.io\n",
    "import bokeh.plotting\n",
    "import pandas as pd\n",
    "import numpy as np\n",
    "\n",
    "# hide warnings\n",
    "import warnings\n",
    "warnings.filterwarnings(\"ignore\",category =RuntimeWarning)"
   ]
  },
  {
   "cell_type": "code",
   "execution_count": 2,
   "metadata": {},
   "outputs": [
    {
     "data": {
      "text/html": [
       "\n",
       "    <div class=\"bk-root\">\n",
       "        <a href=\"https://bokeh.pydata.org\" target=\"_blank\" class=\"bk-logo bk-logo-small bk-logo-notebook\"></a>\n",
       "        <span id=\"3c8ae1d4-0fec-49e4-91c4-e7db1b66e238\">Loading BokehJS ...</span>\n",
       "    </div>"
      ]
     },
     "metadata": {},
     "output_type": "display_data"
    },
    {
     "data": {
      "application/javascript": [
       "\n",
       "(function(root) {\n",
       "  function now() {\n",
       "    return new Date();\n",
       "  }\n",
       "\n",
       "  var force = true;\n",
       "\n",
       "  if (typeof (root._bokeh_onload_callbacks) === \"undefined\" || force === true) {\n",
       "    root._bokeh_onload_callbacks = [];\n",
       "    root._bokeh_is_loading = undefined;\n",
       "  }\n",
       "\n",
       "  var JS_MIME_TYPE = 'application/javascript';\n",
       "  var HTML_MIME_TYPE = 'text/html';\n",
       "  var EXEC_MIME_TYPE = 'application/vnd.bokehjs_exec.v0+json';\n",
       "  var CLASS_NAME = 'output_bokeh rendered_html';\n",
       "\n",
       "  /**\n",
       "   * Render data to the DOM node\n",
       "   */\n",
       "  function render(props, node) {\n",
       "    var script = document.createElement(\"script\");\n",
       "    node.appendChild(script);\n",
       "  }\n",
       "\n",
       "  /**\n",
       "   * Handle when an output is cleared or removed\n",
       "   */\n",
       "  function handleClearOutput(event, handle) {\n",
       "    var cell = handle.cell;\n",
       "\n",
       "    var id = cell.output_area._bokeh_element_id;\n",
       "    var server_id = cell.output_area._bokeh_server_id;\n",
       "    // Clean up Bokeh references\n",
       "    if (id !== undefined) {\n",
       "      Bokeh.index[id].model.document.clear();\n",
       "      delete Bokeh.index[id];\n",
       "    }\n",
       "\n",
       "    if (server_id !== undefined) {\n",
       "      // Clean up Bokeh references\n",
       "      var cmd = \"from bokeh.io.state import curstate; print(curstate().uuid_to_server['\" + server_id + \"'].get_sessions()[0].document.roots[0]._id)\";\n",
       "      cell.notebook.kernel.execute(cmd, {\n",
       "        iopub: {\n",
       "          output: function(msg) {\n",
       "            var element_id = msg.content.text.trim();\n",
       "            Bokeh.index[element_id].model.document.clear();\n",
       "            delete Bokeh.index[element_id];\n",
       "          }\n",
       "        }\n",
       "      });\n",
       "      // Destroy server and session\n",
       "      var cmd = \"import bokeh.io.notebook as ion; ion.destroy_server('\" + server_id + \"')\";\n",
       "      cell.notebook.kernel.execute(cmd);\n",
       "    }\n",
       "  }\n",
       "\n",
       "  /**\n",
       "   * Handle when a new output is added\n",
       "   */\n",
       "  function handleAddOutput(event, handle) {\n",
       "    var output_area = handle.output_area;\n",
       "    var output = handle.output;\n",
       "\n",
       "    // limit handleAddOutput to display_data with EXEC_MIME_TYPE content only\n",
       "    if ((output.output_type != \"display_data\") || (!output.data.hasOwnProperty(EXEC_MIME_TYPE))) {\n",
       "      return\n",
       "    }\n",
       "\n",
       "    var toinsert = output_area.element.find(\".\" + CLASS_NAME.split(' ')[0]);\n",
       "\n",
       "    if (output.metadata[EXEC_MIME_TYPE][\"id\"] !== undefined) {\n",
       "      toinsert[toinsert.length - 1].firstChild.textContent = output.data[JS_MIME_TYPE];\n",
       "      // store reference to embed id on output_area\n",
       "      output_area._bokeh_element_id = output.metadata[EXEC_MIME_TYPE][\"id\"];\n",
       "    }\n",
       "    if (output.metadata[EXEC_MIME_TYPE][\"server_id\"] !== undefined) {\n",
       "      var bk_div = document.createElement(\"div\");\n",
       "      bk_div.innerHTML = output.data[HTML_MIME_TYPE];\n",
       "      var script_attrs = bk_div.children[0].attributes;\n",
       "      for (var i = 0; i < script_attrs.length; i++) {\n",
       "        toinsert[toinsert.length - 1].firstChild.setAttribute(script_attrs[i].name, script_attrs[i].value);\n",
       "      }\n",
       "      // store reference to server id on output_area\n",
       "      output_area._bokeh_server_id = output.metadata[EXEC_MIME_TYPE][\"server_id\"];\n",
       "    }\n",
       "  }\n",
       "\n",
       "  function register_renderer(events, OutputArea) {\n",
       "\n",
       "    function append_mime(data, metadata, element) {\n",
       "      // create a DOM node to render to\n",
       "      var toinsert = this.create_output_subarea(\n",
       "        metadata,\n",
       "        CLASS_NAME,\n",
       "        EXEC_MIME_TYPE\n",
       "      );\n",
       "      this.keyboard_manager.register_events(toinsert);\n",
       "      // Render to node\n",
       "      var props = {data: data, metadata: metadata[EXEC_MIME_TYPE]};\n",
       "      render(props, toinsert[toinsert.length - 1]);\n",
       "      element.append(toinsert);\n",
       "      return toinsert\n",
       "    }\n",
       "\n",
       "    /* Handle when an output is cleared or removed */\n",
       "    events.on('clear_output.CodeCell', handleClearOutput);\n",
       "    events.on('delete.Cell', handleClearOutput);\n",
       "\n",
       "    /* Handle when a new output is added */\n",
       "    events.on('output_added.OutputArea', handleAddOutput);\n",
       "\n",
       "    /**\n",
       "     * Register the mime type and append_mime function with output_area\n",
       "     */\n",
       "    OutputArea.prototype.register_mime_type(EXEC_MIME_TYPE, append_mime, {\n",
       "      /* Is output safe? */\n",
       "      safe: true,\n",
       "      /* Index of renderer in `output_area.display_order` */\n",
       "      index: 0\n",
       "    });\n",
       "  }\n",
       "\n",
       "  // register the mime type if in Jupyter Notebook environment and previously unregistered\n",
       "  if (root.Jupyter !== undefined) {\n",
       "    var events = require('base/js/events');\n",
       "    var OutputArea = require('notebook/js/outputarea').OutputArea;\n",
       "\n",
       "    if (OutputArea.prototype.mime_types().indexOf(EXEC_MIME_TYPE) == -1) {\n",
       "      register_renderer(events, OutputArea);\n",
       "    }\n",
       "  }\n",
       "\n",
       "  \n",
       "  if (typeof (root._bokeh_timeout) === \"undefined\" || force === true) {\n",
       "    root._bokeh_timeout = Date.now() + 5000;\n",
       "    root._bokeh_failed_load = false;\n",
       "  }\n",
       "\n",
       "  var NB_LOAD_WARNING = {'data': {'text/html':\n",
       "     \"<div style='background-color: #fdd'>\\n\"+\n",
       "     \"<p>\\n\"+\n",
       "     \"BokehJS does not appear to have successfully loaded. If loading BokehJS from CDN, this \\n\"+\n",
       "     \"may be due to a slow or bad network connection. Possible fixes:\\n\"+\n",
       "     \"</p>\\n\"+\n",
       "     \"<ul>\\n\"+\n",
       "     \"<li>re-rerun `output_notebook()` to attempt to load from CDN again, or</li>\\n\"+\n",
       "     \"<li>use INLINE resources instead, as so:</li>\\n\"+\n",
       "     \"</ul>\\n\"+\n",
       "     \"<code>\\n\"+\n",
       "     \"from bokeh.resources import INLINE\\n\"+\n",
       "     \"output_notebook(resources=INLINE)\\n\"+\n",
       "     \"</code>\\n\"+\n",
       "     \"</div>\"}};\n",
       "\n",
       "  function display_loaded() {\n",
       "    var el = document.getElementById(\"3c8ae1d4-0fec-49e4-91c4-e7db1b66e238\");\n",
       "    if (el != null) {\n",
       "      el.textContent = \"BokehJS is loading...\";\n",
       "    }\n",
       "    if (root.Bokeh !== undefined) {\n",
       "      if (el != null) {\n",
       "        el.textContent = \"BokehJS \" + root.Bokeh.version + \" successfully loaded.\";\n",
       "      }\n",
       "    } else if (Date.now() < root._bokeh_timeout) {\n",
       "      setTimeout(display_loaded, 100)\n",
       "    }\n",
       "  }\n",
       "\n",
       "\n",
       "  function run_callbacks() {\n",
       "    try {\n",
       "      root._bokeh_onload_callbacks.forEach(function(callback) { callback() });\n",
       "    }\n",
       "    finally {\n",
       "      delete root._bokeh_onload_callbacks\n",
       "    }\n",
       "    console.info(\"Bokeh: all callbacks have finished\");\n",
       "  }\n",
       "\n",
       "  function load_libs(js_urls, callback) {\n",
       "    root._bokeh_onload_callbacks.push(callback);\n",
       "    if (root._bokeh_is_loading > 0) {\n",
       "      console.log(\"Bokeh: BokehJS is being loaded, scheduling callback at\", now());\n",
       "      return null;\n",
       "    }\n",
       "    if (js_urls == null || js_urls.length === 0) {\n",
       "      run_callbacks();\n",
       "      return null;\n",
       "    }\n",
       "    console.log(\"Bokeh: BokehJS not loaded, scheduling load and callback at\", now());\n",
       "    root._bokeh_is_loading = js_urls.length;\n",
       "    for (var i = 0; i < js_urls.length; i++) {\n",
       "      var url = js_urls[i];\n",
       "      var s = document.createElement('script');\n",
       "      s.src = url;\n",
       "      s.async = false;\n",
       "      s.onreadystatechange = s.onload = function() {\n",
       "        root._bokeh_is_loading--;\n",
       "        if (root._bokeh_is_loading === 0) {\n",
       "          console.log(\"Bokeh: all BokehJS libraries loaded\");\n",
       "          run_callbacks()\n",
       "        }\n",
       "      };\n",
       "      s.onerror = function() {\n",
       "        console.warn(\"failed to load library \" + url);\n",
       "      };\n",
       "      console.log(\"Bokeh: injecting script tag for BokehJS library: \", url);\n",
       "      document.getElementsByTagName(\"head\")[0].appendChild(s);\n",
       "    }\n",
       "  };var element = document.getElementById(\"3c8ae1d4-0fec-49e4-91c4-e7db1b66e238\");\n",
       "  if (element == null) {\n",
       "    console.log(\"Bokeh: ERROR: autoload.js configured with elementid '3c8ae1d4-0fec-49e4-91c4-e7db1b66e238' but no matching script tag was found. \")\n",
       "    return false;\n",
       "  }\n",
       "\n",
       "  var js_urls = [\"https://cdn.pydata.org/bokeh/release/bokeh-0.12.15.min.js\", \"https://cdn.pydata.org/bokeh/release/bokeh-widgets-0.12.15.min.js\", \"https://cdn.pydata.org/bokeh/release/bokeh-tables-0.12.15.min.js\", \"https://cdn.pydata.org/bokeh/release/bokeh-gl-0.12.15.min.js\"];\n",
       "\n",
       "  var inline_js = [\n",
       "    function(Bokeh) {\n",
       "      Bokeh.set_log_level(\"info\");\n",
       "    },\n",
       "    \n",
       "    function(Bokeh) {\n",
       "      \n",
       "    },\n",
       "    function(Bokeh) {\n",
       "      console.log(\"Bokeh: injecting CSS: https://cdn.pydata.org/bokeh/release/bokeh-0.12.15.min.css\");\n",
       "      Bokeh.embed.inject_css(\"https://cdn.pydata.org/bokeh/release/bokeh-0.12.15.min.css\");\n",
       "      console.log(\"Bokeh: injecting CSS: https://cdn.pydata.org/bokeh/release/bokeh-widgets-0.12.15.min.css\");\n",
       "      Bokeh.embed.inject_css(\"https://cdn.pydata.org/bokeh/release/bokeh-widgets-0.12.15.min.css\");\n",
       "      console.log(\"Bokeh: injecting CSS: https://cdn.pydata.org/bokeh/release/bokeh-tables-0.12.15.min.css\");\n",
       "      Bokeh.embed.inject_css(\"https://cdn.pydata.org/bokeh/release/bokeh-tables-0.12.15.min.css\");\n",
       "    }\n",
       "  ];\n",
       "\n",
       "  function run_inline_js() {\n",
       "    \n",
       "    if ((root.Bokeh !== undefined) || (force === true)) {\n",
       "      for (var i = 0; i < inline_js.length; i++) {\n",
       "        inline_js[i].call(root, root.Bokeh);\n",
       "      }if (force === true) {\n",
       "        display_loaded();\n",
       "      }} else if (Date.now() < root._bokeh_timeout) {\n",
       "      setTimeout(run_inline_js, 100);\n",
       "    } else if (!root._bokeh_failed_load) {\n",
       "      console.log(\"Bokeh: BokehJS failed to load within specified timeout.\");\n",
       "      root._bokeh_failed_load = true;\n",
       "    } else if (force !== true) {\n",
       "      var cell = $(document.getElementById(\"3c8ae1d4-0fec-49e4-91c4-e7db1b66e238\")).parents('.cell').data().cell;\n",
       "      cell.output_area.append_execute_result(NB_LOAD_WARNING)\n",
       "    }\n",
       "\n",
       "  }\n",
       "\n",
       "  if (root._bokeh_is_loading === 0) {\n",
       "    console.log(\"Bokeh: BokehJS loaded, going straight to plotting\");\n",
       "    run_inline_js();\n",
       "  } else {\n",
       "    load_libs(js_urls, function() {\n",
       "      console.log(\"Bokeh: BokehJS plotting callback run at\", now());\n",
       "      run_inline_js();\n",
       "    });\n",
       "  }\n",
       "}(window));"
      ],
      "application/vnd.bokehjs_load.v0+json": "\n(function(root) {\n  function now() {\n    return new Date();\n  }\n\n  var force = true;\n\n  if (typeof (root._bokeh_onload_callbacks) === \"undefined\" || force === true) {\n    root._bokeh_onload_callbacks = [];\n    root._bokeh_is_loading = undefined;\n  }\n\n  \n\n  \n  if (typeof (root._bokeh_timeout) === \"undefined\" || force === true) {\n    root._bokeh_timeout = Date.now() + 5000;\n    root._bokeh_failed_load = false;\n  }\n\n  var NB_LOAD_WARNING = {'data': {'text/html':\n     \"<div style='background-color: #fdd'>\\n\"+\n     \"<p>\\n\"+\n     \"BokehJS does not appear to have successfully loaded. If loading BokehJS from CDN, this \\n\"+\n     \"may be due to a slow or bad network connection. Possible fixes:\\n\"+\n     \"</p>\\n\"+\n     \"<ul>\\n\"+\n     \"<li>re-rerun `output_notebook()` to attempt to load from CDN again, or</li>\\n\"+\n     \"<li>use INLINE resources instead, as so:</li>\\n\"+\n     \"</ul>\\n\"+\n     \"<code>\\n\"+\n     \"from bokeh.resources import INLINE\\n\"+\n     \"output_notebook(resources=INLINE)\\n\"+\n     \"</code>\\n\"+\n     \"</div>\"}};\n\n  function display_loaded() {\n    var el = document.getElementById(\"3c8ae1d4-0fec-49e4-91c4-e7db1b66e238\");\n    if (el != null) {\n      el.textContent = \"BokehJS is loading...\";\n    }\n    if (root.Bokeh !== undefined) {\n      if (el != null) {\n        el.textContent = \"BokehJS \" + root.Bokeh.version + \" successfully loaded.\";\n      }\n    } else if (Date.now() < root._bokeh_timeout) {\n      setTimeout(display_loaded, 100)\n    }\n  }\n\n\n  function run_callbacks() {\n    try {\n      root._bokeh_onload_callbacks.forEach(function(callback) { callback() });\n    }\n    finally {\n      delete root._bokeh_onload_callbacks\n    }\n    console.info(\"Bokeh: all callbacks have finished\");\n  }\n\n  function load_libs(js_urls, callback) {\n    root._bokeh_onload_callbacks.push(callback);\n    if (root._bokeh_is_loading > 0) {\n      console.log(\"Bokeh: BokehJS is being loaded, scheduling callback at\", now());\n      return null;\n    }\n    if (js_urls == null || js_urls.length === 0) {\n      run_callbacks();\n      return null;\n    }\n    console.log(\"Bokeh: BokehJS not loaded, scheduling load and callback at\", now());\n    root._bokeh_is_loading = js_urls.length;\n    for (var i = 0; i < js_urls.length; i++) {\n      var url = js_urls[i];\n      var s = document.createElement('script');\n      s.src = url;\n      s.async = false;\n      s.onreadystatechange = s.onload = function() {\n        root._bokeh_is_loading--;\n        if (root._bokeh_is_loading === 0) {\n          console.log(\"Bokeh: all BokehJS libraries loaded\");\n          run_callbacks()\n        }\n      };\n      s.onerror = function() {\n        console.warn(\"failed to load library \" + url);\n      };\n      console.log(\"Bokeh: injecting script tag for BokehJS library: \", url);\n      document.getElementsByTagName(\"head\")[0].appendChild(s);\n    }\n  };var element = document.getElementById(\"3c8ae1d4-0fec-49e4-91c4-e7db1b66e238\");\n  if (element == null) {\n    console.log(\"Bokeh: ERROR: autoload.js configured with elementid '3c8ae1d4-0fec-49e4-91c4-e7db1b66e238' but no matching script tag was found. \")\n    return false;\n  }\n\n  var js_urls = [\"https://cdn.pydata.org/bokeh/release/bokeh-0.12.15.min.js\", \"https://cdn.pydata.org/bokeh/release/bokeh-widgets-0.12.15.min.js\", \"https://cdn.pydata.org/bokeh/release/bokeh-tables-0.12.15.min.js\", \"https://cdn.pydata.org/bokeh/release/bokeh-gl-0.12.15.min.js\"];\n\n  var inline_js = [\n    function(Bokeh) {\n      Bokeh.set_log_level(\"info\");\n    },\n    \n    function(Bokeh) {\n      \n    },\n    function(Bokeh) {\n      console.log(\"Bokeh: injecting CSS: https://cdn.pydata.org/bokeh/release/bokeh-0.12.15.min.css\");\n      Bokeh.embed.inject_css(\"https://cdn.pydata.org/bokeh/release/bokeh-0.12.15.min.css\");\n      console.log(\"Bokeh: injecting CSS: https://cdn.pydata.org/bokeh/release/bokeh-widgets-0.12.15.min.css\");\n      Bokeh.embed.inject_css(\"https://cdn.pydata.org/bokeh/release/bokeh-widgets-0.12.15.min.css\");\n      console.log(\"Bokeh: injecting CSS: https://cdn.pydata.org/bokeh/release/bokeh-tables-0.12.15.min.css\");\n      Bokeh.embed.inject_css(\"https://cdn.pydata.org/bokeh/release/bokeh-tables-0.12.15.min.css\");\n    }\n  ];\n\n  function run_inline_js() {\n    \n    if ((root.Bokeh !== undefined) || (force === true)) {\n      for (var i = 0; i < inline_js.length; i++) {\n        inline_js[i].call(root, root.Bokeh);\n      }if (force === true) {\n        display_loaded();\n      }} else if (Date.now() < root._bokeh_timeout) {\n      setTimeout(run_inline_js, 100);\n    } else if (!root._bokeh_failed_load) {\n      console.log(\"Bokeh: BokehJS failed to load within specified timeout.\");\n      root._bokeh_failed_load = true;\n    } else if (force !== true) {\n      var cell = $(document.getElementById(\"3c8ae1d4-0fec-49e4-91c4-e7db1b66e238\")).parents('.cell').data().cell;\n      cell.output_area.append_execute_result(NB_LOAD_WARNING)\n    }\n\n  }\n\n  if (root._bokeh_is_loading === 0) {\n    console.log(\"Bokeh: BokehJS loaded, going straight to plotting\");\n    run_inline_js();\n  } else {\n    load_libs(js_urls, function() {\n      console.log(\"Bokeh: BokehJS plotting callback run at\", now());\n      run_inline_js();\n    });\n  }\n}(window));"
     },
     "metadata": {},
     "output_type": "display_data"
    }
   ],
   "source": [
    "# Set to output the plot in the notebook\n",
    "bokeh.io.output_notebook()"
   ]
  },
  {
   "cell_type": "markdown",
   "metadata": {},
   "source": [
    "## Get the data"
   ]
  },
  {
   "cell_type": "code",
   "execution_count": 3,
   "metadata": {},
   "outputs": [],
   "source": [
    "data_url = \"\\\n",
    "https://raw.githubusercontent.com/WillKoehrsen/\\\n",
    "Bokeh-Python-Visualization/master/application/data/flights.csv\""
   ]
  },
  {
   "cell_type": "code",
   "execution_count": 4,
   "metadata": {},
   "outputs": [],
   "source": [
    "flights = pd.read_csv(data_url, index_col=0)\n"
   ]
  },
  {
   "cell_type": "markdown",
   "metadata": {},
   "source": [
    "### Build histogram\n"
   ]
  },
  {
   "cell_type": "code",
   "execution_count": 5,
   "metadata": {},
   "outputs": [],
   "source": [
    "bins, edges = np.histogram(\n",
    "    flights[\"arr_delay\"], \n",
    "    bins=int(240 / 5), \n",
    "    range=(-120, 120),\n",
    "    )"
   ]
  },
  {
   "cell_type": "code",
   "execution_count": 6,
   "metadata": {},
   "outputs": [],
   "source": [
    "delays = pd.DataFrame({\n",
    "    'flights': bins, \n",
    "    'left': edges[:-1], \n",
    "    'right': edges[1:],\n",
    "})"
   ]
  },
  {
   "cell_type": "code",
   "execution_count": 7,
   "metadata": {
    "scrolled": false
   },
   "outputs": [
    {
     "data": {
      "text/html": [
       "\n",
       "<div class=\"bk-root\">\n",
       "    <div class=\"bk-plotdiv\" id=\"019735bd-db15-4005-b969-9c9e1222df0f\"></div>\n",
       "</div>"
      ]
     },
     "metadata": {},
     "output_type": "display_data"
    },
    {
     "data": {
      "application/javascript": [
       "(function(root) {\n",
       "  function embed_document(root) {\n",
       "    \n",
       "  var docs_json = {\"312768c5-f0d7-4cd9-ab24-fa50d89fe039\":{\"roots\":{\"references\":[{\"attributes\":{\"source\":{\"id\":\"e13f6cfa-bb08-47c5-b740-8d7029b00566\",\"type\":\"ColumnDataSource\"}},\"id\":\"f688e827-b359-4da4-a6c2-8dc9af6a5b82\",\"type\":\"CDSView\"},{\"attributes\":{},\"id\":\"291acf4e-3421-457c-bf30-52b902e7f5e2\",\"type\":\"LinearScale\"},{\"attributes\":{\"bottom\":{\"value\":0},\"fill_alpha\":{\"value\":0.1},\"fill_color\":{\"value\":\"#1f77b4\"},\"left\":{\"field\":\"left\"},\"line_alpha\":{\"value\":0.1},\"line_color\":{\"value\":\"#1f77b4\"},\"right\":{\"field\":\"right\"},\"top\":{\"field\":\"top\"}},\"id\":\"919eb828-eb4c-49cf-8ca6-fed5203c7e78\",\"type\":\"Quad\"},{\"attributes\":{\"callback\":null},\"id\":\"59bf5caa-f5fa-49c0-9977-2868e62024c8\",\"type\":\"DataRange1d\"},{\"attributes\":{\"plot\":{\"id\":\"ea4219f2-db09-414f-9ee1-7703ebaea20d\",\"subtype\":\"Figure\",\"type\":\"Plot\"},\"ticker\":{\"id\":\"e75f28b0-c72b-44fc-bc5b-5604b0ca4d64\",\"type\":\"BasicTicker\"}},\"id\":\"af23a039-388b-4cb0-af1b-76d6d6f84bfb\",\"type\":\"Grid\"},{\"attributes\":{\"data_source\":{\"id\":\"e13f6cfa-bb08-47c5-b740-8d7029b00566\",\"type\":\"ColumnDataSource\"},\"glyph\":{\"id\":\"b5ca723a-01a0-4f62-84f8-d871a1aa70cc\",\"type\":\"Quad\"},\"hover_glyph\":null,\"muted_glyph\":null,\"nonselection_glyph\":{\"id\":\"919eb828-eb4c-49cf-8ca6-fed5203c7e78\",\"type\":\"Quad\"},\"selection_glyph\":null,\"view\":{\"id\":\"f688e827-b359-4da4-a6c2-8dc9af6a5b82\",\"type\":\"CDSView\"}},\"id\":\"c6765ec6-724f-4cad-92dd-a7adb3eb059b\",\"type\":\"GlyphRenderer\"},{\"attributes\":{\"dimension\":1,\"plot\":{\"id\":\"ea4219f2-db09-414f-9ee1-7703ebaea20d\",\"subtype\":\"Figure\",\"type\":\"Plot\"},\"ticker\":{\"id\":\"7fbe5a67-aa5b-4c83-ae01-ab59a2ff8880\",\"type\":\"BasicTicker\"}},\"id\":\"1fe72d29-e5f0-4fcf-8d21-b03f8123840e\",\"type\":\"Grid\"},{\"attributes\":{},\"id\":\"7fbe5a67-aa5b-4c83-ae01-ab59a2ff8880\",\"type\":\"BasicTicker\"},{\"attributes\":{\"axis_label\":\"Delay (min)\",\"formatter\":{\"id\":\"9b6a7cc9-fe73-40f4-b478-77b646feb2bf\",\"type\":\"BasicTickFormatter\"},\"plot\":{\"id\":\"ea4219f2-db09-414f-9ee1-7703ebaea20d\",\"subtype\":\"Figure\",\"type\":\"Plot\"},\"ticker\":{\"id\":\"e75f28b0-c72b-44fc-bc5b-5604b0ca4d64\",\"type\":\"BasicTicker\"}},\"id\":\"ac317997-e9ed-4b38-b8a7-def252bc74dd\",\"type\":\"LinearAxis\"},{\"attributes\":{},\"id\":\"d945e30f-c3cb-4e06-adad-242a78ad94e6\",\"type\":\"LinearScale\"},{\"attributes\":{\"callback\":null,\"column_names\":[\"right\",\"left\",\"top\"],\"data\":{\"left\":{\"__ndarray__\":\"AAAAAAAAXsAAAAAAAMBcwAAAAAAAgFvAAAAAAABAWsAAAAAAAABZwAAAAAAAwFfAAAAAAACAVsAAAAAAAEBVwAAAAAAAAFTAAAAAAADAUsAAAAAAAIBRwAAAAAAAQFDAAAAAAAAATsAAAAAAAIBLwAAAAAAAAEnAAAAAAACARsAAAAAAAABEwAAAAAAAgEHAAAAAAAAAPsAAAAAAAAA5wAAAAAAAADTAAAAAAAAALsAAAAAAAAAkwAAAAAAAABTAAAAAAAAAAAAAAAAAAAAUQAAAAAAAACRAAAAAAAAALkAAAAAAAAA0QAAAAAAAADlAAAAAAAAAPkAAAAAAAIBBQAAAAAAAAERAAAAAAACARkAAAAAAAABJQAAAAAAAgEtAAAAAAAAATkAAAAAAAEBQQAAAAAAAgFFAAAAAAADAUkAAAAAAAABUQAAAAAAAQFVAAAAAAACAVkAAAAAAAMBXQAAAAAAAAFlAAAAAAABAWkAAAAAAAIBbQAAAAAAAwFxA\",\"dtype\":\"float64\",\"shape\":[48]},\"right\":{\"__ndarray__\":\"AAAAAADAXMAAAAAAAIBbwAAAAAAAQFrAAAAAAAAAWcAAAAAAAMBXwAAAAAAAgFbAAAAAAABAVcAAAAAAAABUwAAAAAAAwFLAAAAAAACAUcAAAAAAAEBQwAAAAAAAAE7AAAAAAACAS8AAAAAAAABJwAAAAAAAgEbAAAAAAAAARMAAAAAAAIBBwAAAAAAAAD7AAAAAAAAAOcAAAAAAAAA0wAAAAAAAAC7AAAAAAAAAJMAAAAAAAAAUwAAAAAAAAAAAAAAAAAAAFEAAAAAAAAAkQAAAAAAAAC5AAAAAAAAANEAAAAAAAAA5QAAAAAAAAD5AAAAAAACAQUAAAAAAAABEQAAAAAAAgEZAAAAAAAAASUAAAAAAAIBLQAAAAAAAAE5AAAAAAABAUEAAAAAAAIBRQAAAAAAAwFJAAAAAAAAAVEAAAAAAAEBVQAAAAAAAgFZAAAAAAADAV0AAAAAAAABZQAAAAAAAQFpAAAAAAACAW0AAAAAAAMBcQAAAAAAAAF5A\",\"dtype\":\"float64\",\"shape\":[48]},\"top\":[0,0,0,0,0,0,1,0,1,7,48,142,276,636,1394,2820,5339,9420,15551,23546,31319,34857,33790,29786,24391,19028,14894,11324,8815,7159,5908,4896,4130,3630,3139,2782,2455,2179,1973,1805,1646,1454,1360,1286,1167,1013,945,1000]},\"selected\":null,\"selection_policy\":null},\"id\":\"e13f6cfa-bb08-47c5-b740-8d7029b00566\",\"type\":\"ColumnDataSource\"},{\"attributes\":{\"overlay\":{\"id\":\"b5ecef19-5eee-4bc0-9932-62d56a6544b7\",\"type\":\"BoxAnnotation\"}},\"id\":\"91c1de66-86e2-41a5-bfb1-d028224ea680\",\"type\":\"BoxZoomTool\"},{\"attributes\":{\"axis_label\":\"Number of Flights\",\"formatter\":{\"id\":\"5f4bf275-9952-413a-a071-8a85c5af2947\",\"type\":\"BasicTickFormatter\"},\"plot\":{\"id\":\"ea4219f2-db09-414f-9ee1-7703ebaea20d\",\"subtype\":\"Figure\",\"type\":\"Plot\"},\"ticker\":{\"id\":\"7fbe5a67-aa5b-4c83-ae01-ab59a2ff8880\",\"type\":\"BasicTicker\"}},\"id\":\"d3910f50-8a3b-4d4f-8969-7bea82d1d3fc\",\"type\":\"LinearAxis\"},{\"attributes\":{},\"id\":\"9b6a7cc9-fe73-40f4-b478-77b646feb2bf\",\"type\":\"BasicTickFormatter\"},{\"attributes\":{},\"id\":\"f1bb69e9-9156-46d5-ac41-736000c53ae3\",\"type\":\"ResetTool\"},{\"attributes\":{},\"id\":\"7227c47c-16e8-4976-8bfa-4ec2b7a55bb9\",\"type\":\"PanTool\"},{\"attributes\":{},\"id\":\"5f4bf275-9952-413a-a071-8a85c5af2947\",\"type\":\"BasicTickFormatter\"},{\"attributes\":{\"bottom_units\":\"screen\",\"fill_alpha\":{\"value\":0.5},\"fill_color\":{\"value\":\"lightgrey\"},\"left_units\":\"screen\",\"level\":\"overlay\",\"line_alpha\":{\"value\":1.0},\"line_color\":{\"value\":\"black\"},\"line_dash\":[4,4],\"line_width\":{\"value\":2},\"plot\":null,\"render_mode\":\"css\",\"right_units\":\"screen\",\"top_units\":\"screen\"},\"id\":\"b5ecef19-5eee-4bc0-9932-62d56a6544b7\",\"type\":\"BoxAnnotation\"},{\"attributes\":{},\"id\":\"885fd6ac-46df-4678-8f1b-6e24561b96db\",\"type\":\"HelpTool\"},{\"attributes\":{},\"id\":\"757008a5-4771-48c3-a7b3-b65cad1ab4f9\",\"type\":\"WheelZoomTool\"},{\"attributes\":{},\"id\":\"e75f28b0-c72b-44fc-bc5b-5604b0ca4d64\",\"type\":\"BasicTicker\"},{\"attributes\":{},\"id\":\"a5b8086a-91f3-440b-9c38-f79fc618bff8\",\"type\":\"SaveTool\"},{\"attributes\":{\"active_drag\":\"auto\",\"active_inspect\":\"auto\",\"active_scroll\":\"auto\",\"active_tap\":\"auto\",\"tools\":[{\"id\":\"7227c47c-16e8-4976-8bfa-4ec2b7a55bb9\",\"type\":\"PanTool\"},{\"id\":\"757008a5-4771-48c3-a7b3-b65cad1ab4f9\",\"type\":\"WheelZoomTool\"},{\"id\":\"91c1de66-86e2-41a5-bfb1-d028224ea680\",\"type\":\"BoxZoomTool\"},{\"id\":\"a5b8086a-91f3-440b-9c38-f79fc618bff8\",\"type\":\"SaveTool\"},{\"id\":\"f1bb69e9-9156-46d5-ac41-736000c53ae3\",\"type\":\"ResetTool\"},{\"id\":\"885fd6ac-46df-4678-8f1b-6e24561b96db\",\"type\":\"HelpTool\"}]},\"id\":\"1e9acd1c-9cff-4abb-a2f8-3c9107d1ec6b\",\"type\":\"Toolbar\"},{\"attributes\":{\"bottom\":{\"value\":0},\"fill_color\":{\"value\":\"#262626\"},\"left\":{\"field\":\"left\"},\"right\":{\"field\":\"right\"},\"top\":{\"field\":\"top\"}},\"id\":\"b5ca723a-01a0-4f62-84f8-d871a1aa70cc\",\"type\":\"Quad\"},{\"attributes\":{\"below\":[{\"id\":\"ac317997-e9ed-4b38-b8a7-def252bc74dd\",\"type\":\"LinearAxis\"}],\"left\":[{\"id\":\"d3910f50-8a3b-4d4f-8969-7bea82d1d3fc\",\"type\":\"LinearAxis\"}],\"plot_height\":400,\"plot_width\":400,\"renderers\":[{\"id\":\"ac317997-e9ed-4b38-b8a7-def252bc74dd\",\"type\":\"LinearAxis\"},{\"id\":\"af23a039-388b-4cb0-af1b-76d6d6f84bfb\",\"type\":\"Grid\"},{\"id\":\"d3910f50-8a3b-4d4f-8969-7bea82d1d3fc\",\"type\":\"LinearAxis\"},{\"id\":\"1fe72d29-e5f0-4fcf-8d21-b03f8123840e\",\"type\":\"Grid\"},{\"id\":\"b5ecef19-5eee-4bc0-9932-62d56a6544b7\",\"type\":\"BoxAnnotation\"},{\"id\":\"c6765ec6-724f-4cad-92dd-a7adb3eb059b\",\"type\":\"GlyphRenderer\"}],\"title\":{\"id\":\"e48bc1da-0b7d-4b6b-92ec-45e146dabbcc\",\"type\":\"Title\"},\"toolbar\":{\"id\":\"1e9acd1c-9cff-4abb-a2f8-3c9107d1ec6b\",\"type\":\"Toolbar\"},\"x_range\":{\"id\":\"e86661e4-d5ba-4180-b214-450b820ac3d1\",\"type\":\"DataRange1d\"},\"x_scale\":{\"id\":\"291acf4e-3421-457c-bf30-52b902e7f5e2\",\"type\":\"LinearScale\"},\"y_range\":{\"id\":\"59bf5caa-f5fa-49c0-9977-2868e62024c8\",\"type\":\"DataRange1d\"},\"y_scale\":{\"id\":\"d945e30f-c3cb-4e06-adad-242a78ad94e6\",\"type\":\"LinearScale\"}},\"id\":\"ea4219f2-db09-414f-9ee1-7703ebaea20d\",\"subtype\":\"Figure\",\"type\":\"Plot\"},{\"attributes\":{\"plot\":null,\"text\":\"Histogram of Arrival Delays\"},\"id\":\"e48bc1da-0b7d-4b6b-92ec-45e146dabbcc\",\"type\":\"Title\"},{\"attributes\":{\"callback\":null},\"id\":\"e86661e4-d5ba-4180-b214-450b820ac3d1\",\"type\":\"DataRange1d\"}],\"root_ids\":[\"ea4219f2-db09-414f-9ee1-7703ebaea20d\"]},\"title\":\"Bokeh Application\",\"version\":\"0.12.15\"}};\n",
       "  var render_items = [{\"docid\":\"312768c5-f0d7-4cd9-ab24-fa50d89fe039\",\"elementid\":\"019735bd-db15-4005-b969-9c9e1222df0f\",\"modelid\":\"ea4219f2-db09-414f-9ee1-7703ebaea20d\"}];\n",
       "  root.Bokeh.embed.embed_items_notebook(docs_json, render_items);\n",
       "\n",
       "  }\n",
       "  if (root.Bokeh !== undefined) {\n",
       "    embed_document(root);\n",
       "  } else {\n",
       "    var attempts = 0;\n",
       "    var timer = setInterval(function(root) {\n",
       "      if (root.Bokeh !== undefined) {\n",
       "        embed_document(root);\n",
       "        clearInterval(timer);\n",
       "      }\n",
       "      attempts++;\n",
       "      if (attempts > 100) {\n",
       "        console.log(\"Bokeh: ERROR: Unable to run BokehJS code because BokehJS library is missing\")\n",
       "        clearInterval(timer);\n",
       "      }\n",
       "    }, 10, root)\n",
       "  }\n",
       "})(window);"
      ],
      "application/vnd.bokehjs_exec.v0+json": ""
     },
     "metadata": {
      "application/vnd.bokehjs_exec.v0+json": {
       "id": "ea4219f2-db09-414f-9ee1-7703ebaea20d"
      }
     },
     "output_type": "display_data"
    }
   ],
   "source": [
    "# Create the blank plot\n",
    "p = bokeh.plotting.figure(\n",
    "    plot_height=400,\n",
    "    plot_width=400, \n",
    "    title='Histogram of Arrival Delays',\n",
    "    x_axis_label='Delay (min)', \n",
    "    y_axis_label='Number of Flights')\n",
    "\n",
    "# Add a quad glyph\n",
    "p.quad(\n",
    "    bottom=0, \n",
    "    top=delays['flights'], \n",
    "    left=delays['left'],\n",
    "    right=delays['right'], \n",
    "    fill_color='#262626',\n",
    "    line_color='black')\n",
    "\n",
    "# Show the plot\n",
    "bokeh.io.show(p)"
   ]
  },
  {
   "cell_type": "markdown",
   "metadata": {},
   "source": [
    "### Add interactivity\n",
    "We basically replace the pandas dataframe with a `ColumnDataSource` object, which stores the data differently, making it accessible inside bokeh objects when entered as a `source` argument. "
   ]
  },
  {
   "cell_type": "code",
   "execution_count": 8,
   "metadata": {},
   "outputs": [
    {
     "data": {
      "text/plain": [
       "dict_keys(['right', 'left', 'flights', 'index'])"
      ]
     },
     "execution_count": 8,
     "metadata": {},
     "output_type": "execute_result"
    }
   ],
   "source": [
    "# Convert dataframe to column data source\n",
    "src = bokeh.models.ColumnDataSource(delays)\n",
    "src.data.keys()"
   ]
  },
  {
   "cell_type": "markdown",
   "metadata": {},
   "source": [
    "### INteractive"
   ]
  },
  {
   "cell_type": "code",
   "execution_count": 9,
   "metadata": {},
   "outputs": [],
   "source": [
    "# add a column to df and update src\n",
    "delays[\"interval\"] = (\n",
    "    delays['left'].astype(str) + ' to ' + delays['right'].astype(str))\n",
    "\n",
    "# Convert dataframe to column data source\n",
    "src = bokeh.models.ColumnDataSource(delays)"
   ]
  },
  {
   "cell_type": "code",
   "execution_count": 10,
   "metadata": {},
   "outputs": [
    {
     "data": {
      "text/html": [
       "\n",
       "<div class=\"bk-root\">\n",
       "    <div class=\"bk-plotdiv\" id=\"01d78798-a547-4ca8-bb7a-9c4b7de32fa4\"></div>\n",
       "</div>"
      ]
     },
     "metadata": {},
     "output_type": "display_data"
    },
    {
     "data": {
      "application/javascript": [
       "(function(root) {\n",
       "  function embed_document(root) {\n",
       "    \n",
       "  var docs_json = {\"3ef6835c-806a-4cad-b76c-025f0c8c0607\":{\"roots\":{\"references\":[{\"attributes\":{\"below\":[{\"id\":\"b12ef20a-906d-4a68-a45d-5c2cbf37671c\",\"type\":\"LinearAxis\"}],\"left\":[{\"id\":\"58c48936-0363-4be9-a42b-c228640c21e3\",\"type\":\"LinearAxis\"}],\"plot_height\":400,\"plot_width\":400,\"renderers\":[{\"id\":\"b12ef20a-906d-4a68-a45d-5c2cbf37671c\",\"type\":\"LinearAxis\"},{\"id\":\"bd213f99-d130-4b47-bbdb-1b04ae69536d\",\"type\":\"Grid\"},{\"id\":\"58c48936-0363-4be9-a42b-c228640c21e3\",\"type\":\"LinearAxis\"},{\"id\":\"2a99728d-5e50-4550-8d48-9af02d4465b2\",\"type\":\"Grid\"},{\"id\":\"e640245f-5e9c-4e8a-a59f-f42283a0d926\",\"type\":\"BoxAnnotation\"},{\"id\":\"91a69080-4bfa-426b-a23e-44843fa0f5ae\",\"type\":\"GlyphRenderer\"}],\"title\":{\"id\":\"6bed0ff0-8620-4fbc-8d30-fdfbdfe74db4\",\"type\":\"Title\"},\"toolbar\":{\"id\":\"0d12ae15-ff0a-42f6-884a-4b6ac0fdf1ad\",\"type\":\"Toolbar\"},\"x_range\":{\"id\":\"96c4f6e1-610b-4855-9666-c96764956f69\",\"type\":\"DataRange1d\"},\"x_scale\":{\"id\":\"10096d4f-622c-480d-8a27-e7e85c7134ce\",\"type\":\"LinearScale\"},\"y_range\":{\"id\":\"d8e15fe3-8e57-4851-bdc6-55638754e856\",\"type\":\"DataRange1d\"},\"y_scale\":{\"id\":\"caeac628-9ebd-4259-88f6-f10aa83a49a8\",\"type\":\"LinearScale\"}},\"id\":\"e0036edb-522e-41c6-aef1-89167fa2a75a\",\"subtype\":\"Figure\",\"type\":\"Plot\"},{\"attributes\":{},\"id\":\"4e213bd8-dd18-4b01-b458-ce7f73b4e562\",\"type\":\"WheelZoomTool\"},{\"attributes\":{\"overlay\":{\"id\":\"e640245f-5e9c-4e8a-a59f-f42283a0d926\",\"type\":\"BoxAnnotation\"}},\"id\":\"ba8e748d-e14d-4559-b9d2-fd164c10045d\",\"type\":\"BoxZoomTool\"},{\"attributes\":{\"bottom\":{\"value\":0},\"fill_alpha\":{\"value\":0.75},\"fill_color\":{\"value\":\"#262626\"},\"left\":{\"field\":\"left\"},\"line_color\":{\"value\":\"#262626\"},\"right\":{\"field\":\"right\"},\"top\":{\"field\":\"flights\"}},\"id\":\"c508daec-d9f9-4e3a-b06a-77baf89e6402\",\"type\":\"Quad\"},{\"attributes\":{\"callback\":null},\"id\":\"d8e15fe3-8e57-4851-bdc6-55638754e856\",\"type\":\"DataRange1d\"},{\"attributes\":{\"bottom\":{\"value\":0},\"fill_alpha\":{\"value\":0.1},\"fill_color\":{\"value\":\"#1f77b4\"},\"left\":{\"field\":\"left\"},\"line_alpha\":{\"value\":0.1},\"line_color\":{\"value\":\"#1f77b4\"},\"right\":{\"field\":\"right\"},\"top\":{\"field\":\"flights\"}},\"id\":\"dd1a0470-7b0d-4638-b919-5fa9f9fbed31\",\"type\":\"Quad\"},{\"attributes\":{\"callback\":null,\"tooltips\":[[\"Delay\",\"@interval\"],[\"Num of Flights\",\"@flights\"]]},\"id\":\"361f21bc-23ec-4ffc-a590-6a04e4050265\",\"type\":\"HoverTool\"},{\"attributes\":{\"axis_label\":\"Number of Flights\",\"formatter\":{\"id\":\"40779f3d-6ae8-4f5c-a7ae-ea5302ed1e80\",\"type\":\"BasicTickFormatter\"},\"plot\":{\"id\":\"e0036edb-522e-41c6-aef1-89167fa2a75a\",\"subtype\":\"Figure\",\"type\":\"Plot\"},\"ticker\":{\"id\":\"970d08a4-364a-4f69-9705-d20eb9bf1dbf\",\"type\":\"BasicTicker\"}},\"id\":\"58c48936-0363-4be9-a42b-c228640c21e3\",\"type\":\"LinearAxis\"},{\"attributes\":{\"callback\":null,\"column_names\":[\"right\",\"left\",\"flights\",\"interval\",\"index\"],\"data\":{\"flights\":[0,0,0,0,0,0,1,0,1,7,48,142,276,636,1394,2820,5339,9420,15551,23546,31319,34857,33790,29786,24391,19028,14894,11324,8815,7159,5908,4896,4130,3630,3139,2782,2455,2179,1973,1805,1646,1454,1360,1286,1167,1013,945,1000],\"index\":[0,1,2,3,4,5,6,7,8,9,10,11,12,13,14,15,16,17,18,19,20,21,22,23,24,25,26,27,28,29,30,31,32,33,34,35,36,37,38,39,40,41,42,43,44,45,46,47],\"interval\":[\"-120.0 to -115.0\",\"-115.0 to -110.0\",\"-110.0 to -105.0\",\"-105.0 to -100.0\",\"-100.0 to -95.0\",\"-95.0 to -90.0\",\"-90.0 to -85.0\",\"-85.0 to -80.0\",\"-80.0 to -75.0\",\"-75.0 to -70.0\",\"-70.0 to -65.0\",\"-65.0 to -60.0\",\"-60.0 to -55.0\",\"-55.0 to -50.0\",\"-50.0 to -45.0\",\"-45.0 to -40.0\",\"-40.0 to -35.0\",\"-35.0 to -30.0\",\"-30.0 to -25.0\",\"-25.0 to -20.0\",\"-20.0 to -15.0\",\"-15.0 to -10.0\",\"-10.0 to -5.0\",\"-5.0 to 0.0\",\"0.0 to 5.0\",\"5.0 to 10.0\",\"10.0 to 15.0\",\"15.0 to 20.0\",\"20.0 to 25.0\",\"25.0 to 30.0\",\"30.0 to 35.0\",\"35.0 to 40.0\",\"40.0 to 45.0\",\"45.0 to 50.0\",\"50.0 to 55.0\",\"55.0 to 60.0\",\"60.0 to 65.0\",\"65.0 to 70.0\",\"70.0 to 75.0\",\"75.0 to 80.0\",\"80.0 to 85.0\",\"85.0 to 90.0\",\"90.0 to 95.0\",\"95.0 to 100.0\",\"100.0 to 105.0\",\"105.0 to 110.0\",\"110.0 to 115.0\",\"115.0 to 120.0\"],\"left\":{\"__ndarray__\":\"AAAAAAAAXsAAAAAAAMBcwAAAAAAAgFvAAAAAAABAWsAAAAAAAABZwAAAAAAAwFfAAAAAAACAVsAAAAAAAEBVwAAAAAAAAFTAAAAAAADAUsAAAAAAAIBRwAAAAAAAQFDAAAAAAAAATsAAAAAAAIBLwAAAAAAAAEnAAAAAAACARsAAAAAAAABEwAAAAAAAgEHAAAAAAAAAPsAAAAAAAAA5wAAAAAAAADTAAAAAAAAALsAAAAAAAAAkwAAAAAAAABTAAAAAAAAAAAAAAAAAAAAUQAAAAAAAACRAAAAAAAAALkAAAAAAAAA0QAAAAAAAADlAAAAAAAAAPkAAAAAAAIBBQAAAAAAAAERAAAAAAACARkAAAAAAAABJQAAAAAAAgEtAAAAAAAAATkAAAAAAAEBQQAAAAAAAgFFAAAAAAADAUkAAAAAAAABUQAAAAAAAQFVAAAAAAACAVkAAAAAAAMBXQAAAAAAAAFlAAAAAAABAWkAAAAAAAIBbQAAAAAAAwFxA\",\"dtype\":\"float64\",\"shape\":[48]},\"right\":{\"__ndarray__\":\"AAAAAADAXMAAAAAAAIBbwAAAAAAAQFrAAAAAAAAAWcAAAAAAAMBXwAAAAAAAgFbAAAAAAABAVcAAAAAAAABUwAAAAAAAwFLAAAAAAACAUcAAAAAAAEBQwAAAAAAAAE7AAAAAAACAS8AAAAAAAABJwAAAAAAAgEbAAAAAAAAARMAAAAAAAIBBwAAAAAAAAD7AAAAAAAAAOcAAAAAAAAA0wAAAAAAAAC7AAAAAAAAAJMAAAAAAAAAUwAAAAAAAAAAAAAAAAAAAFEAAAAAAAAAkQAAAAAAAAC5AAAAAAAAANEAAAAAAAAA5QAAAAAAAAD5AAAAAAACAQUAAAAAAAABEQAAAAAAAgEZAAAAAAAAASUAAAAAAAIBLQAAAAAAAAE5AAAAAAABAUEAAAAAAAIBRQAAAAAAAwFJAAAAAAAAAVEAAAAAAAEBVQAAAAAAAgFZAAAAAAADAV0AAAAAAAABZQAAAAAAAQFpAAAAAAACAW0AAAAAAAMBcQAAAAAAAAF5A\",\"dtype\":\"float64\",\"shape\":[48]}},\"selected\":null,\"selection_policy\":null},\"id\":\"fdf27f9a-64eb-4020-98a5-e44e717966e7\",\"type\":\"ColumnDataSource\"},{\"attributes\":{\"source\":{\"id\":\"fdf27f9a-64eb-4020-98a5-e44e717966e7\",\"type\":\"ColumnDataSource\"}},\"id\":\"34fc9cbe-ae89-499b-a000-909e422b1738\",\"type\":\"CDSView\"},{\"attributes\":{\"dimension\":1,\"plot\":{\"id\":\"e0036edb-522e-41c6-aef1-89167fa2a75a\",\"subtype\":\"Figure\",\"type\":\"Plot\"},\"ticker\":{\"id\":\"970d08a4-364a-4f69-9705-d20eb9bf1dbf\",\"type\":\"BasicTicker\"}},\"id\":\"2a99728d-5e50-4550-8d48-9af02d4465b2\",\"type\":\"Grid\"},{\"attributes\":{\"active_drag\":\"auto\",\"active_inspect\":\"auto\",\"active_scroll\":\"auto\",\"active_tap\":\"auto\",\"tools\":[{\"id\":\"46dd805b-6e43-4cdc-b790-5f4ff5584f9a\",\"type\":\"PanTool\"},{\"id\":\"4e213bd8-dd18-4b01-b458-ce7f73b4e562\",\"type\":\"WheelZoomTool\"},{\"id\":\"ba8e748d-e14d-4559-b9d2-fd164c10045d\",\"type\":\"BoxZoomTool\"},{\"id\":\"531f2770-49d9-478f-a077-57c979abb4e9\",\"type\":\"SaveTool\"},{\"id\":\"55a8cb2d-e873-4b42-bed8-ceb376c57806\",\"type\":\"ResetTool\"},{\"id\":\"b15394a9-85c4-4fa5-be98-bb030a49edbd\",\"type\":\"HelpTool\"},{\"id\":\"361f21bc-23ec-4ffc-a590-6a04e4050265\",\"type\":\"HoverTool\"}]},\"id\":\"0d12ae15-ff0a-42f6-884a-4b6ac0fdf1ad\",\"type\":\"Toolbar\"},{\"attributes\":{\"bottom_units\":\"screen\",\"fill_alpha\":{\"value\":0.5},\"fill_color\":{\"value\":\"lightgrey\"},\"left_units\":\"screen\",\"level\":\"overlay\",\"line_alpha\":{\"value\":1.0},\"line_color\":{\"value\":\"black\"},\"line_dash\":[4,4],\"line_width\":{\"value\":2},\"plot\":null,\"render_mode\":\"css\",\"right_units\":\"screen\",\"top_units\":\"screen\"},\"id\":\"e640245f-5e9c-4e8a-a59f-f42283a0d926\",\"type\":\"BoxAnnotation\"},{\"attributes\":{\"axis_label\":\"Delay (min)\",\"formatter\":{\"id\":\"86c7bd73-4aa2-4a93-a05d-1f8d03935e0d\",\"type\":\"BasicTickFormatter\"},\"plot\":{\"id\":\"e0036edb-522e-41c6-aef1-89167fa2a75a\",\"subtype\":\"Figure\",\"type\":\"Plot\"},\"ticker\":{\"id\":\"94ec8402-4998-4b81-89dd-1e7eeefd0ab3\",\"type\":\"BasicTicker\"}},\"id\":\"b12ef20a-906d-4a68-a45d-5c2cbf37671c\",\"type\":\"LinearAxis\"},{\"attributes\":{\"data_source\":{\"id\":\"fdf27f9a-64eb-4020-98a5-e44e717966e7\",\"type\":\"ColumnDataSource\"},\"glyph\":{\"id\":\"c508daec-d9f9-4e3a-b06a-77baf89e6402\",\"type\":\"Quad\"},\"hover_glyph\":{\"id\":\"05e4432a-1bbd-4e12-87a9-93c7d7721c42\",\"type\":\"Quad\"},\"muted_glyph\":null,\"nonselection_glyph\":{\"id\":\"dd1a0470-7b0d-4638-b919-5fa9f9fbed31\",\"type\":\"Quad\"},\"selection_glyph\":null,\"view\":{\"id\":\"34fc9cbe-ae89-499b-a000-909e422b1738\",\"type\":\"CDSView\"}},\"id\":\"91a69080-4bfa-426b-a23e-44843fa0f5ae\",\"type\":\"GlyphRenderer\"},{\"attributes\":{},\"id\":\"46dd805b-6e43-4cdc-b790-5f4ff5584f9a\",\"type\":\"PanTool\"},{\"attributes\":{\"callback\":null},\"id\":\"96c4f6e1-610b-4855-9666-c96764956f69\",\"type\":\"DataRange1d\"},{\"attributes\":{\"align\":\"center\",\"plot\":null,\"text\":\"Histogram of Arrival Delays\",\"text_font_size\":{\"value\":\"14pt\"}},\"id\":\"6bed0ff0-8620-4fbc-8d30-fdfbdfe74db4\",\"type\":\"Title\"},{\"attributes\":{},\"id\":\"970d08a4-364a-4f69-9705-d20eb9bf1dbf\",\"type\":\"BasicTicker\"},{\"attributes\":{\"bottom\":{\"value\":0},\"fill_color\":{\"value\":\"lightgrey\"},\"left\":{\"field\":\"left\"},\"line_color\":{\"value\":\"#1f77b4\"},\"right\":{\"field\":\"right\"},\"top\":{\"field\":\"flights\"}},\"id\":\"05e4432a-1bbd-4e12-87a9-93c7d7721c42\",\"type\":\"Quad\"},{\"attributes\":{},\"id\":\"55a8cb2d-e873-4b42-bed8-ceb376c57806\",\"type\":\"ResetTool\"},{\"attributes\":{},\"id\":\"10096d4f-622c-480d-8a27-e7e85c7134ce\",\"type\":\"LinearScale\"},{\"attributes\":{},\"id\":\"40779f3d-6ae8-4f5c-a7ae-ea5302ed1e80\",\"type\":\"BasicTickFormatter\"},{\"attributes\":{},\"id\":\"86c7bd73-4aa2-4a93-a05d-1f8d03935e0d\",\"type\":\"BasicTickFormatter\"},{\"attributes\":{},\"id\":\"531f2770-49d9-478f-a077-57c979abb4e9\",\"type\":\"SaveTool\"},{\"attributes\":{},\"id\":\"94ec8402-4998-4b81-89dd-1e7eeefd0ab3\",\"type\":\"BasicTicker\"},{\"attributes\":{\"plot\":{\"id\":\"e0036edb-522e-41c6-aef1-89167fa2a75a\",\"subtype\":\"Figure\",\"type\":\"Plot\"},\"ticker\":{\"id\":\"94ec8402-4998-4b81-89dd-1e7eeefd0ab3\",\"type\":\"BasicTicker\"}},\"id\":\"bd213f99-d130-4b47-bbdb-1b04ae69536d\",\"type\":\"Grid\"},{\"attributes\":{},\"id\":\"b15394a9-85c4-4fa5-be98-bb030a49edbd\",\"type\":\"HelpTool\"},{\"attributes\":{},\"id\":\"caeac628-9ebd-4259-88f6-f10aa83a49a8\",\"type\":\"LinearScale\"}],\"root_ids\":[\"e0036edb-522e-41c6-aef1-89167fa2a75a\"]},\"title\":\"Bokeh Application\",\"version\":\"0.12.15\"}};\n",
       "  var render_items = [{\"docid\":\"3ef6835c-806a-4cad-b76c-025f0c8c0607\",\"elementid\":\"01d78798-a547-4ca8-bb7a-9c4b7de32fa4\",\"modelid\":\"e0036edb-522e-41c6-aef1-89167fa2a75a\"}];\n",
       "  root.Bokeh.embed.embed_items_notebook(docs_json, render_items);\n",
       "\n",
       "  }\n",
       "  if (root.Bokeh !== undefined) {\n",
       "    embed_document(root);\n",
       "  } else {\n",
       "    var attempts = 0;\n",
       "    var timer = setInterval(function(root) {\n",
       "      if (root.Bokeh !== undefined) {\n",
       "        embed_document(root);\n",
       "        clearInterval(timer);\n",
       "      }\n",
       "      attempts++;\n",
       "      if (attempts > 100) {\n",
       "        console.log(\"Bokeh: ERROR: Unable to run BokehJS code because BokehJS library is missing\")\n",
       "        clearInterval(timer);\n",
       "      }\n",
       "    }, 10, root)\n",
       "  }\n",
       "})(window);"
      ],
      "application/vnd.bokehjs_exec.v0+json": ""
     },
     "metadata": {
      "application/vnd.bokehjs_exec.v0+json": {
       "id": "e0036edb-522e-41c6-aef1-89167fa2a75a"
      }
     },
     "output_type": "display_data"
    }
   ],
   "source": [
    "# Create the blank plot\n",
    "p = bokeh.plotting.figure(\n",
    "    plot_height=400,\n",
    "    plot_width=400, \n",
    "    title='Histogram of Arrival Delays',\n",
    "    x_axis_label='Delay (min)',\n",
    "    y_axis_label='Number of Flights',\n",
    ")\n",
    "\n",
    "# Add a quad glyph with source this time\n",
    "p.quad(\n",
    "    bottom=0,\n",
    "    top='flights',\n",
    "    left='left',\n",
    "    right='right',\n",
    "    source=src,\n",
    "    fill_color='#262626',\n",
    "    line_color='#262626',\n",
    "    fill_alpha=0.75,\n",
    "    hover_fill_alpha=1.0,\n",
    "    hover_fill_color='lightgrey',\n",
    ")\n",
    "\n",
    "# Add a hover tool referring to the formatted columns\n",
    "hover = bokeh.models.HoverTool()\n",
    "hover.tooltips = [\n",
    "    ('Delay', '@interval'),\n",
    "    ('Num of Flights', '@flights')]\n",
    "# Add the hover tool to the graph\n",
    "p.add_tools(hover)\n",
    "\n",
    "# Style the plot\n",
    "p.title.align = \"center\"\n",
    "p.title.text_font_size = \"14pt\"\n",
    "\n",
    "# Show the plot\n",
    "bokeh.io.show(p)"
   ]
  },
  {
   "cell_type": "markdown",
   "metadata": {},
   "source": [
    "### Save the plot"
   ]
  },
  {
   "cell_type": "code",
   "execution_count": 11,
   "metadata": {},
   "outputs": [],
   "source": [
    "# Specify the output file and save\n",
    "bokeh.io.output_file('histogram.html')"
   ]
  }
 ],
 "metadata": {
  "kernelspec": {
   "display_name": "Python 3",
   "language": "python",
   "name": "python3"
  },
  "language_info": {
   "codemirror_mode": {
    "name": "ipython",
    "version": 3
   },
   "file_extension": ".py",
   "mimetype": "text/x-python",
   "name": "python",
   "nbconvert_exporter": "python",
   "pygments_lexer": "ipython3",
   "version": "3.5.4"
  }
 },
 "nbformat": 4,
 "nbformat_minor": 2
}
