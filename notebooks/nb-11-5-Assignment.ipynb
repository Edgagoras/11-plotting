{
 "cells": [
  {
   "cell_type": "markdown",
   "metadata": {},
   "source": [
    "## Plotting assignment\n",
    "\n",
    "Use whichever plotting library you like, or a mixture of them. The primary ones we covered in class include matplotlib, toyplot, and bokeh. Matplotlib can accomplish all of the tasks, whereas toyplot can do almost all of them but you will need to use matplolib for 3-d plots. "
   ]
  },
  {
   "cell_type": "code",
   "execution_count": 3,
   "metadata": {},
   "outputs": [],
   "source": [
    "import toyplot\n",
    "import matplotlib.pyplot as plt\n",
    "import numpy as np\n",
    "%matplotlib inline"
   ]
  },
  {
   "cell_type": "markdown",
   "metadata": {},
   "source": [
    "### Use the following formating for all plots: \n",
    "+ width=300\n",
    "+ height=300"
   ]
  },
  {
   "cell_type": "code",
   "execution_count": 11,
   "metadata": {},
   "outputs": [],
   "source": [
    "# you could save it as kwargs, for example, this would work with toyplot figs\n",
    "kwargs = {\"width\": 300, \"height\": 300}"
   ]
  },
  {
   "cell_type": "markdown",
   "metadata": {},
   "source": [
    "# Scatterplots"
   ]
  },
  {
   "cell_type": "markdown",
   "metadata": {},
   "source": [
    "Problem 1:  \n",
    "+ N = 200 samples\n",
    "+ x = N values drawn from a normal distribution with mean=10, std=2;  \n",
    "+ y = N values drawn from an exponential distribution with rate parameter 3;  \n",
    "+ marker size is a equal to the value of y. "
   ]
  },
  {
   "cell_type": "code",
   "execution_count": null,
   "metadata": {},
   "outputs": [],
   "source": []
  },
  {
   "cell_type": "markdown",
   "metadata": {},
   "source": [
    "Problem 2:  \n",
    "+ N = 200 samples\n",
    "+ x = N values drawn from a uniform distribution between 0 and 1000;  \n",
    "+ y = N values drawn from a uniform distribution between 0 and 1000;  \n",
    "+ marker color = is a color from a continuous colormap mapped to the value of x;   \n",
    "+ marker size = N values drawn from a uniform distribution between 1 and 10;    "
   ]
  },
  {
   "cell_type": "code",
   "execution_count": null,
   "metadata": {},
   "outputs": [],
   "source": []
  },
  {
   "cell_type": "markdown",
   "metadata": {},
   "source": [
    "Problem 3:  \n",
    "+ N = 500 samples\n",
    "+ x = N values drawn from a normal distribution with mean=0 and std=10;  \n",
    "+ y = x + N values drawn from a normal dist with mean=5, std=10.\n",
    "+ marker = square\n",
    "+ marker opacity = 0.5\n",
    "+ Only show the x-axis (bottom); hide all other axes.\n",
    "+ Show seven equally spaced tick marks on the x-axis with integer tick-labels.  \n",
    "+ Label the x-axis as \"Leaf size (cm)\""
   ]
  },
  {
   "cell_type": "code",
   "execution_count": null,
   "metadata": {},
   "outputs": [],
   "source": []
  },
  {
   "cell_type": "markdown",
   "metadata": {},
   "source": [
    "# Barplots / histograms"
   ]
  },
  {
   "cell_type": "markdown",
   "metadata": {},
   "source": [
    "Problem 4:  \n",
    "+ N = 1000 samples\n",
    "+ x = N values drawn from a normal distribution with mean=0 and std=10;  \n",
    "+ draw a histogram of x binned into 15 bins.\n",
    "+ color the bins using a colormap to map bin colors to their height.\n",
    "+ color the line/stroke around each bin black.  "
   ]
  },
  {
   "cell_type": "code",
   "execution_count": null,
   "metadata": {},
   "outputs": [],
   "source": []
  },
  {
   "cell_type": "markdown",
   "metadata": {},
   "source": [
    "Problem 5:  \n",
    "+ Create a figure with subplots side by side so that they share the same y-axis. \n",
    "+ N = 500 samples\n",
    "+ x = N values drawn from an exponential distribution with rate parameter 1; \n",
    "+ plot1: draw a histogram of x binned into 15 bins.\n",
    "+ in the histogram draw bars along the y-axis (horizontal bars as opposed to vertical)\n",
    "+ in the histogram use a colormap to map bin colors to their height.\n",
    "+ plot2: draw a scatterplot to the right of plot 1\n",
    "+ in the scatterplot do not show the y-axis. \n",
    "+ in the scatterplot plot range(N) on the x-axis, and x on y-axis.\n",
    "+ in the scatterplot set opacity of markers to 0.5.\n"
   ]
  },
  {
   "cell_type": "code",
   "execution_count": null,
   "metadata": {},
   "outputs": [],
   "source": []
  }
 ],
 "metadata": {
  "kernelspec": {
   "display_name": "Python 3",
   "language": "python",
   "name": "python3"
  },
  "language_info": {
   "codemirror_mode": {
    "name": "ipython",
    "version": 3
   },
   "file_extension": ".py",
   "mimetype": "text/x-python",
   "name": "python",
   "nbconvert_exporter": "python",
   "pygments_lexer": "ipython3",
   "version": "3.5.4"
  }
 },
 "nbformat": 4,
 "nbformat_minor": 2
}
